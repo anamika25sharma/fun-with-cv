{
 "cells": [
  {
   "cell_type": "code",
   "execution_count": 401,
   "id": "3619b30b",
   "metadata": {},
   "outputs": [],
   "source": [
    "import cv2\n",
    "import numpy"
   ]
  },
  {
   "cell_type": "code",
   "execution_count": 402,
   "id": "708b9e74",
   "metadata": {},
   "outputs": [],
   "source": [
    "photo = numpy.zeros([500,500,3])"
   ]
  },
  {
   "cell_type": "code",
   "execution_count": 403,
   "id": "74a8124d",
   "metadata": {},
   "outputs": [],
   "source": [
    "photo[ : , : ]=[235,206,0]"
   ]
  },
  {
   "cell_type": "code",
   "execution_count": 404,
   "id": "c6b1129e",
   "metadata": {},
   "outputs": [],
   "source": [
    "photo[ : , : ]=[235,206,0]\n",
    "#suraj dada\n",
    "cv2.circle(photo, (420,70), 40, (0,255,255), -1)\n",
    "\n",
    "#Smoke\n",
    "cv2.circle(photo, (155,135), 20, (224,224,244), -1)\n",
    "cv2.circle(photo, (165,115), 25, (224,224,244), -1)\n",
    "cv2.circle(photo, (195,100), 30, (224,224,244), -1)\n",
    "cv2.circle(photo, (230,70), 35, (224,224,244), -1)\n",
    "\n",
    "#building\n",
    "photo[200:400 , 100:400 ]=[0,0,255]\n",
    "\n",
    "#window 1\n",
    "photo[150:200 , 130:180 ]=[0,0,0]\n",
    "photo[150:200 , 220:270 ]=[0,0,0]\n",
    "photo[150:200 , 320:370 ]=[0,0,0]\n",
    "\n",
    "#window 2\n",
    "photo[250:300 , 130:180 ]=[0,0,0]\n",
    "photo[250:300 , 220:270 ]=[0,0,0]\n",
    "photo[250:300 , 320:370 ]=[0,0,0]\n",
    "\n",
    "#tree\n",
    "photo[225:400 , 40:60 ]=[0,0,0]\n",
    "cv2.circle(photo, (50,225), 30, (0,255,0), -1)\n",
    "cv2.circle(photo, (55,205), 30, (0,255,0), -1)\n",
    "cv2.circle(photo, (35,225), 30, (0,255,0), -1)\n",
    "cv2.circle(photo, (65,225), 30, (0,255,0), -1)\n",
    "cv2.circle(photo, (65,235), 30, (0,255,0), -1)\n",
    "cv2.circle(photo, (35,205), 30, (0,255,0), -1)\n",
    "\n",
    "#road\n",
    "photo[400:500 , : ]=[0,0,0]\n",
    "photo[440:460 , 50:150 ]=[255,255,255]\n",
    "photo[440:460 , 200:300 ]=[255,255,255]\n",
    "photo[440:460 , 350:450 ]=[255,255,255]\n",
    "#car 1\n",
    "cv2.rectangle(photo, (75,315), (162,350), (255,255,255), 5)\n",
    "cv2.rectangle(photo, (25,350), (200,395), (255,255,255), -1)\n",
    "cv2.line(photo, (75,315), (45,350), (255,255,255), 5)\n",
    "cv2.line(photo, (162,315), (197,347), (255,255,255), 5)\n",
    "cv2.line(photo, (120,315), (120,345), (255,255,255), 5)\n",
    "\n",
    "#wheel back\n",
    "cv2.circle(photo, (70,390), 20, (0,0,0), -1)\n",
    "cv2.circle(photo, (70,390), 10, (255,255,255), -1)\n",
    "#wheel front\n",
    "cv2.circle(photo, (150,390), 20, (0,0,0), -1)\n",
    "cv2.circle(photo, (150,390), 10, (255,255,255), -1)\n",
    "#bumper 1\n",
    "photo[380:390 , 200:210 ]=[255,255,255]\n",
    "\n",
    "#car 2\n",
    "cv2.rectangle(photo,(352,315),(430,350), (255,255,255), 5)\n",
    "cv2.rectangle(photo,(310,350), (460,395) , (255,255,255), -1)\n",
    "cv2.line(photo, (350,315), (330,350), (255,255,255), 5)\n",
    "cv2.line(photo, (430,315), (457,350), (255,255,255), 5)\n",
    "cv2.line(photo, (390,315), (390,350), (255,255,255), 5)\n",
    "\n",
    "#wheel back\n",
    "cv2.circle(photo, (352,390), 20, (0,0,0), -1)\n",
    "cv2.circle(photo, (352,390), 10, (255,255,255), -1)\n",
    "#wheel front\n",
    "cv2.circle(photo, (430,390), 20, (0,0,0), -1)\n",
    "cv2.circle(photo, (430,390), 10, (255,255,255), -1)\n",
    "#bumper 2\n",
    "photo[380:390 , 460:470 ]=[255,255,255]"
   ]
  },
  {
   "cell_type": "code",
   "execution_count": 405,
   "id": "1add1294",
   "metadata": {},
   "outputs": [],
   "source": [
    "cv2.imshow(\"hi\",photo)\n",
    "cv2.waitKey()\n",
    "cv2.destroyAllWindows()"
   ]
  },
  {
   "cell_type": "code",
   "execution_count": 406,
   "id": "52736f9e",
   "metadata": {},
   "outputs": [
    {
     "data": {
      "text/plain": [
       "True"
      ]
     },
     "execution_count": 406,
     "metadata": {},
     "output_type": "execute_result"
    }
   ],
   "source": [
    "cv2.imwrite('myimage.jpeg', photo)"
   ]
  },
  {
   "cell_type": "code",
   "execution_count": null,
   "id": "83de8158",
   "metadata": {},
   "outputs": [],
   "source": []
  }
 ],
 "metadata": {
  "kernelspec": {
   "display_name": "Python 3",
   "language": "python",
   "name": "python3"
  },
  "language_info": {
   "codemirror_mode": {
    "name": "ipython",
    "version": 3
   },
   "file_extension": ".py",
   "mimetype": "text/x-python",
   "name": "python",
   "nbconvert_exporter": "python",
   "pygments_lexer": "ipython3",
   "version": "3.8.3"
  }
 },
 "nbformat": 4,
 "nbformat_minor": 5
}
