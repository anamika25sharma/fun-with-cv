{
 "cells": [
  {
   "cell_type": "code",
   "execution_count": 17,
   "id": "d4e29ed3",
   "metadata": {},
   "outputs": [],
   "source": [
    "import cv2\n",
    "import numpy"
   ]
  },
  {
   "cell_type": "code",
   "execution_count": 18,
   "id": "7814b497",
   "metadata": {},
   "outputs": [],
   "source": [
    "image1 = cv2.imread(\"testfile2i.jpg\")\n",
    "image1 = cv2.resize(image1, (720, 720))\n",
    "cv2.imshow(\"image1\" , image1)\n",
    "cv2.waitKey()\n",
    "cv2.destroyAllWindows()"
   ]
  },
  {
   "cell_type": "code",
   "execution_count": 19,
   "id": "a8920b90",
   "metadata": {},
   "outputs": [
    {
     "data": {
      "text/plain": [
       "-1"
      ]
     },
     "execution_count": 19,
     "metadata": {},
     "output_type": "execute_result"
    }
   ],
   "source": [
    "#guy\n",
    "y1=120\n",
    "x1=20\n",
    "h1=500\n",
    "w1=400\n",
    "crop_image1 = image1[x1:w1, y1:h1]\n",
    "cv2.imshow(\"Cropped1\", crop_image1)\n",
    "cv2.waitKey()"
   ]
  },
  {
   "cell_type": "code",
   "execution_count": 20,
   "id": "2ea53af4",
   "metadata": {},
   "outputs": [],
   "source": [
    "image2 = cv2.imread(\"testfile2ii.jpg\")\n",
    "image2 = cv2.resize(image2, (720, 720))\n",
    "cv2.imshow(\"image2\" , image2)\n",
    "cv2.waitKey()\n",
    "cv2.destroyAllWindows()"
   ]
  },
  {
   "cell_type": "code",
   "execution_count": 21,
   "id": "55c62af3",
   "metadata": {},
   "outputs": [
    {
     "data": {
      "text/plain": [
       "-1"
      ]
     },
     "execution_count": 21,
     "metadata": {},
     "output_type": "execute_result"
    }
   ],
   "source": [
    "#girl\n",
    "y2=110\n",
    "x2=30\n",
    "h2=500\n",
    "w2=400\n",
    "crop_image2 = image2[x2:w2, y2:h2]\n",
    "cv2.imshow(\"Cropped2\", crop_image2)\n",
    "cv2.waitKey()"
   ]
  },
  {
   "cell_type": "code",
   "execution_count": 22,
   "id": "f2b3a254",
   "metadata": {},
   "outputs": [],
   "source": [
    "crop_image1=numpy.copy(crop_image1)\n",
    "crop_image2=numpy.copy(crop_image2)"
   ]
  },
  {
   "cell_type": "code",
   "execution_count": 23,
   "id": "9afd814c",
   "metadata": {},
   "outputs": [],
   "source": [
    "image2[x1:w1 , y1:h1] = crop_image1\n",
    "image1[x2:w2 , y2:h2] = crop_image2 "
   ]
  },
  {
   "cell_type": "code",
   "execution_count": 24,
   "id": "164bdf0f",
   "metadata": {},
   "outputs": [],
   "source": [
    "cv2.imshow('hi' , image1)\n",
    "cv2.imshow('hello',image2)\n",
    "cv2.waitKey()\n",
    "cv2.destroyAllWindows()"
   ]
  },
  {
   "cell_type": "code",
   "execution_count": null,
   "id": "4b189608",
   "metadata": {},
   "outputs": [],
   "source": []
  }
 ],
 "metadata": {
  "kernelspec": {
   "display_name": "Python 3",
   "language": "python",
   "name": "python3"
  },
  "language_info": {
   "codemirror_mode": {
    "name": "ipython",
    "version": 3
   },
   "file_extension": ".py",
   "mimetype": "text/x-python",
   "name": "python",
   "nbconvert_exporter": "python",
   "pygments_lexer": "ipython3",
   "version": "3.8.5"
  }
 },
 "nbformat": 4,
 "nbformat_minor": 5
}
