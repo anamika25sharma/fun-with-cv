{
 "cells": [
  {
   "cell_type": "code",
   "execution_count": 50,
   "id": "3c96da61",
   "metadata": {},
   "outputs": [],
   "source": [
    "import cv2\n",
    "import numpy "
   ]
  },
  {
   "cell_type": "code",
   "execution_count": 51,
   "id": "7621c775",
   "metadata": {},
   "outputs": [],
   "source": [
    "photo1 = cv2.imread('testfile1i.jpg')\n",
    "photo1 = cv2.resize(photo1, (600,300))\n",
    "photo2 = cv2.imread('testfile1ii.jpg')\n",
    "photo2 = cv2.resize(photo2, (600,300))\n",
    "cv2.imshow('image 1', photo1)\n",
    "cv2.imshow('image 2', photo2)\n",
    "cv2.waitKey()\n",
    "cv2.destroyAllWindows() "
   ]
  },
  {
   "cell_type": "code",
   "execution_count": 52,
   "id": "49de1c45",
   "metadata": {},
   "outputs": [],
   "source": [
    "collage1 = numpy.vstack((photo1,photo2))"
   ]
  },
  {
   "cell_type": "code",
   "execution_count": 53,
   "id": "d2bc5555",
   "metadata": {},
   "outputs": [],
   "source": [
    "#landscape mode collage \n",
    "cv2.imshow('collage 1', collage1)\n",
    "cv2.waitKey()\n",
    "cv2.destroyAllWindows() "
   ]
  },
  {
   "cell_type": "code",
   "execution_count": 54,
   "id": "34acdde7",
   "metadata": {},
   "outputs": [],
   "source": [
    "photo1 = cv2.imread('testfile3i.jpg')\n",
    "photo1 = cv2.resize(photo1, (600,500))\n",
    "photo2 = cv2.imread('testfile3ii.jpg')\n",
    "photo2 = cv2.resize(photo2, (600,500))\n",
    "cv2.imshow('image 1', photo1)\n",
    "cv2.imshow('image 2', photo2)\n",
    "cv2.waitKey()\n",
    "cv2.destroyAllWindows() "
   ]
  },
  {
   "cell_type": "code",
   "execution_count": 58,
   "id": "91f7031c",
   "metadata": {},
   "outputs": [],
   "source": [
    "collage2= numpy.hstack((photo1,photo2))"
   ]
  },
  {
   "cell_type": "code",
   "execution_count": 59,
   "id": "73f488cb",
   "metadata": {},
   "outputs": [],
   "source": [
    "#portrait mode collage\n",
    "cv2.imshow('collage2', collage2)\n",
    "cv2.waitKey()\n",
    "cv2.destroyAllWindows() "
   ]
  },
  {
   "cell_type": "code",
   "execution_count": 60,
   "id": "a2a8b089",
   "metadata": {},
   "outputs": [],
   "source": [
    "photo1 = cv2.imread('testfile2i.jpg')\n",
    "photo1 = cv2.resize(photo1, (600,500))\n",
    "photo2 = cv2.imread('testfile2ii.jpg')\n",
    "photo2 = cv2.resize(photo2, (600,500))\n",
    "cv2.imshow('image 1', photo1)\n",
    "cv2.imshow('image 2', photo2)\n",
    "cv2.waitKey()\n",
    "cv2.destroyAllWindows() "
   ]
  },
  {
   "cell_type": "code",
   "execution_count": 61,
   "id": "a3f5d772",
   "metadata": {},
   "outputs": [],
   "source": [
    "collage3= numpy.hstack((photo1,photo2))"
   ]
  },
  {
   "cell_type": "code",
   "execution_count": 64,
   "id": "3b544085",
   "metadata": {},
   "outputs": [],
   "source": [
    "#your name final poster\n",
    "cv2.imshow('the final poster', collage3)\n",
    "cv2.waitKey()\n",
    "cv2.destroyAllWindows() "
   ]
  },
  {
   "cell_type": "code",
   "execution_count": 65,
   "id": "b2d7a732",
   "metadata": {},
   "outputs": [],
   "source": [
    "#all three collage \n",
    "cv2.imshow('collage', collage1)\n",
    "cv2.imshow('collage2', collage2)\n",
    "cv2.imshow('the final poster', collage3)\n",
    "cv2.waitKey()\n",
    "cv2.destroyAllWindows() "
   ]
  },
  {
   "cell_type": "code",
   "execution_count": null,
   "id": "2f4a323d",
   "metadata": {},
   "outputs": [],
   "source": []
  }
 ],
 "metadata": {
  "kernelspec": {
   "display_name": "Python 3",
   "language": "python",
   "name": "python3"
  },
  "language_info": {
   "codemirror_mode": {
    "name": "ipython",
    "version": 3
   },
   "file_extension": ".py",
   "mimetype": "text/x-python",
   "name": "python",
   "nbconvert_exporter": "python",
   "pygments_lexer": "ipython3",
   "version": "3.8.5"
  }
 },
 "nbformat": 4,
 "nbformat_minor": 5
}
